{
 "cells": [
  {
   "cell_type": "code",
   "execution_count": 1,
   "metadata": {},
   "outputs": [
    {
     "name": "stdout",
     "output_type": "stream",
     "text": [
      "00-analyze-logs-timings-delaware.ipynb\tReadme.md\t sample_config\r\n",
      "Dockerfile\t\t\t\tdelaware_config\r\n",
      "Makefile\t\t\t\tlog.log\r\n"
     ]
    }
   ],
   "source": [
    "! ls"
   ]
  },
  {
   "cell_type": "code",
   "execution_count": 34,
   "metadata": {},
   "outputs": [
    {
     "name": "stdout",
     "output_type": "stream",
     "text": [
      "Image=tbutzer/veget_c\r\n",
      "\r\n",
      "build:\r\n",
      "\tdocker build -t ${Image} .\r\n",
      "\r\n",
      "run:\r\n",
      "\tdocker run -it ${Image} bash\r\n",
      "\r\n",
      "exec:\r\n",
      "\tdocker exec -it ${Image} bash\r\n",
      "\r\n",
      "git:\r\n",
      "\t(cd /opt/etops ; make)\r\n",
      "\r\n",
      "\r\n",
      "dela_logs:\r\n",
      "\tdocker run -i ${Image} python3 api_veget.py -c delaware_config -s DRB.shp lilDRB_temp\r\n"
     ]
    }
   ],
   "source": [
    "! cat Makefile"
   ]
  },
  {
   "cell_type": "markdown",
   "metadata": {},
   "source": [
    "# Running in Docker Notes\n",
    "\n",
    "```\n",
    "tmux\n",
    "\n",
    "make dela_logs 2>&1 | tee log.log\n",
    "\n",
    "```\n",
    "\n",
    "\n",
    "### make dela_logs 2>&1 | tee log.log\n"
   ]
  },
  {
   "cell_type": "code",
   "execution_count": 2,
   "metadata": {},
   "outputs": [
    {
     "name": "stdout",
     "output_type": "stream",
     "text": [
      "docker run -i tbutzer/veget_c python3 api_veget.py -c delaware_config -s DRB.shp lilDRB_temp\r\n",
      "2020-06-20 15:41:43,742 - BOXY_THINGYS - INFO - Logging Begins\r\n",
      "2020-06-20 15:41:43,743 - CLOUD_VEGET - INFO - Logging Begins\r\n",
      "2020-06-20 15:41:43,744 - CLOUD_VEGET - INFO - Processing Tile lilDRB_temp\r\n",
      "2020-06-20 15:41:43,744 - CLOUD_VEGET - ERROR - Someday tony needs to refine logging and determine a std format for ELK\r\n",
      "2020-06-20 15:41:43,745 - CLOUD_VEGET - ERROR - or logging agents and logging backends ... docker deployments\r\n",
      "2020-06-20 15:41:43,745 - VegET_CLASS - INFO - Logging Begins\r\n",
      "2020-06-20 15:41:43,745 - VegET_CLASS - INFO - TILE is lilDRB_temp\r\n",
      "2020-06-20 15:41:43,745 - VegET_CLASS - INFO - Important Config path is delaware_config\r\n",
      "2020-06-20 15:41:43,760 - VegET_CLASS - INFO - Important path mode is aws\r\n"
     ]
    }
   ],
   "source": [
    "! head log.log"
   ]
  },
  {
   "cell_type": "code",
   "execution_count": 3,
   "metadata": {},
   "outputs": [],
   "source": [
    "def read_log(filename):\n",
    "    with open(filename) as f:\n",
    "        content = f.read().splitlines()\n",
    "    return content"
   ]
  },
  {
   "cell_type": "code",
   "execution_count": 4,
   "metadata": {},
   "outputs": [],
   "source": [
    "lines = read_log('log.log')"
   ]
  },
  {
   "cell_type": "code",
   "execution_count": 5,
   "metadata": {},
   "outputs": [
    {
     "name": "stdout",
     "output_type": "stream",
     "text": [
      "docker run -i tbutzer/veget_c python3 api_veget.py -c delaware_config -s DRB.shp lilDRB_temp\n",
      "2020-06-20 15:41:43,742 - BOXY_THINGYS - INFO - Logging Begins\n",
      "2020-06-20 15:41:43,743 - CLOUD_VEGET - INFO - Logging Begins\n",
      "2020-06-20 15:41:43,744 - CLOUD_VEGET - INFO - Processing Tile lilDRB_temp\n",
      "2020-06-20 15:41:43,744 - CLOUD_VEGET - ERROR - Someday tony needs to refine logging and determine a std format for ELK\n",
      "2020-06-20 15:41:43,745 - CLOUD_VEGET - ERROR - or logging agents and logging backends ... docker deployments\n",
      "2020-06-20 15:41:43,745 - VegET_CLASS - INFO - Logging Begins\n",
      "2020-06-20 15:41:43,745 - VegET_CLASS - INFO - TILE is lilDRB_temp\n",
      "2020-06-20 15:41:43,745 - VegET_CLASS - INFO - Important Config path is delaware_config\n",
      "2020-06-20 15:41:43,760 - VegET_CLASS - INFO - Important path mode is aws\n",
      "2020-06-20 15:41:43,761 - COOL RASTERMANAGER - INFO - Logging Begins\n",
      "2020-06-20 15:41:43,761 - COOL RASTERMANAGER - INFO - Tony-s stupid - tile name is - lilDRB_temp\n"
     ]
    }
   ],
   "source": [
    "for i in range(0,12):\n",
    "    print(lines[i])"
   ]
  },
  {
   "cell_type": "code",
   "execution_count": 8,
   "metadata": {},
   "outputs": [
    {
     "name": "stdout",
     "output_type": "stream",
     "text": [
      "2020-06-20 15:42:28,666 - VegET_CLASS - INFO - DAY - TIME - 23.82932587713003 - 2012-11-30 00:00:00\n",
      "2020-06-20 15:44:34,163 - VegET_CLASS - INFO - DAY - TIME - 125.49668184807524 - 2012-12-01 00:00:00\n",
      "2020-06-20 15:45:14,139 - VegET_CLASS - INFO - DAY - TIME - 39.975049721077085 - 2012-12-02 00:00:00\n",
      "2020-06-20 15:45:41,057 - VegET_CLASS - INFO - DAY - TIME - 26.918258279096335 - 2012-12-03 00:00:00\n",
      "2020-06-20 15:46:08,599 - VegET_CLASS - INFO - DAY - TIME - 27.541604122146964 - 2012-12-04 00:00:00\n",
      "2020-06-20 15:46:35,934 - VegET_CLASS - INFO - DAY - TIME - 27.33454190334305 - 2012-12-05 00:00:00\n",
      "2020-06-20 15:46:59,719 - VegET_CLASS - INFO - DAY - TIME - 23.78530544321984 - 2012-12-06 00:00:00\n",
      "2020-06-20 15:47:31,415 - VegET_CLASS - INFO - DAY - TIME - 31.69551506312564 - 2012-12-07 00:00:00\n",
      "2020-06-20 15:48:00,269 - VegET_CLASS - INFO - DAY - TIME - 28.853522011078894 - 2012-12-08 00:00:00\n",
      "2020-06-20 15:48:25,214 - VegET_CLASS - INFO - DAY - TIME - 24.94494657823816 - 2012-12-09 00:00:00\n",
      "2020-06-20 15:48:48,462 - VegET_CLASS - INFO - DAY - TIME - 23.247636005748063 - 2012-12-10 00:00:00\n",
      "2020-06-20 15:50:56,884 - VegET_CLASS - INFO - DAY - TIME - 128.42130952281877 - 2012-12-11 00:00:00\n",
      "2020-06-20 15:51:22,907 - VegET_CLASS - INFO - DAY - TIME - 26.023649082984775 - 2012-12-12 00:00:00\n",
      "2020-06-20 15:51:52,635 - VegET_CLASS - INFO - DAY - TIME - 29.7276747841388 - 2012-12-13 00:00:00\n",
      "2020-06-20 15:52:16,698 - VegET_CLASS - INFO - DAY - TIME - 24.062160547822714 - 2012-12-14 00:00:00\n",
      "2020-06-20 15:52:49,262 - VegET_CLASS - INFO - DAY - TIME - 32.56388711696491 - 2012-12-15 00:00:00\n",
      "2020-06-20 15:53:17,141 - VegET_CLASS - INFO - DAY - TIME - 27.879244490992278 - 2012-12-16 00:00:00\n",
      "2020-06-20 15:53:45,187 - VegET_CLASS - INFO - DAY - TIME - 28.045485159382224 - 2012-12-17 00:00:00\n",
      "2020-06-20 15:54:13,249 - VegET_CLASS - INFO - DAY - TIME - 28.061447184998542 - 2012-12-18 00:00:00\n",
      "2020-06-20 15:54:38,715 - VegET_CLASS - INFO - DAY - TIME - 25.466194191016257 - 2012-12-19 00:00:00\n",
      "2020-06-20 15:55:05,689 - VegET_CLASS - INFO - DAY - TIME - 26.973672450054437 - 2012-12-20 00:00:00\n",
      "2020-06-20 15:55:31,012 - VegET_CLASS - INFO - DAY - TIME - 25.32234445400536 - 2012-12-21 00:00:00\n",
      "2020-06-20 15:55:56,236 - VegET_CLASS - INFO - DAY - TIME - 25.223322426900268 - 2012-12-22 00:00:00\n",
      "2020-06-20 15:56:25,281 - VegET_CLASS - INFO - DAY - TIME - 29.044721381738782 - 2012-12-23 00:00:00\n",
      "2020-06-20 15:56:48,301 - VegET_CLASS - INFO - DAY - TIME - 23.019805199932307 - 2012-12-24 00:00:00\n",
      "2020-06-20 15:57:30,473 - VegET_CLASS - INFO - DAY - TIME - 42.17229453288019 - 2012-12-25 00:00:00\n"
     ]
    }
   ],
   "source": [
    "for i in range(0,len(lines)):\n",
    "    if ('VegET_CLASS ' in lines[i]) and ('DAY' in lines[i]):\n",
    "        print(lines[i])"
   ]
  },
  {
   "cell_type": "code",
   "execution_count": 11,
   "metadata": {},
   "outputs": [
    {
     "name": "stdout",
     "output_type": "stream",
     "text": [
      "2020-06-20 15:42:28,666 - VegET_CLASS - INFO - DAY - TIME - 23.82932587713003 - 2012-11-30 00:00:00\n",
      "23.82932587713003 2012-11-30 00:00:00\n",
      "2020-06-20 15:44:34,163 - VegET_CLASS - INFO - DAY - TIME - 125.49668184807524 - 2012-12-01 00:00:00\n",
      "125.49668184807524 2012-12-01 00:00:00\n",
      "2020-06-20 15:45:14,139 - VegET_CLASS - INFO - DAY - TIME - 39.975049721077085 - 2012-12-02 00:00:00\n",
      "39.975049721077085 2012-12-02 00:00:00\n",
      "2020-06-20 15:45:41,057 - VegET_CLASS - INFO - DAY - TIME - 26.918258279096335 - 2012-12-03 00:00:00\n",
      "26.918258279096335 2012-12-03 00:00:00\n",
      "2020-06-20 15:46:08,599 - VegET_CLASS - INFO - DAY - TIME - 27.541604122146964 - 2012-12-04 00:00:00\n",
      "27.541604122146964 2012-12-04 00:00:00\n",
      "2020-06-20 15:46:35,934 - VegET_CLASS - INFO - DAY - TIME - 27.33454190334305 - 2012-12-05 00:00:00\n",
      "27.33454190334305 2012-12-05 00:00:00\n",
      "2020-06-20 15:46:59,719 - VegET_CLASS - INFO - DAY - TIME - 23.78530544321984 - 2012-12-06 00:00:00\n",
      "23.78530544321984 2012-12-06 00:00:00\n",
      "2020-06-20 15:47:31,415 - VegET_CLASS - INFO - DAY - TIME - 31.69551506312564 - 2012-12-07 00:00:00\n",
      "31.69551506312564 2012-12-07 00:00:00\n",
      "2020-06-20 15:48:00,269 - VegET_CLASS - INFO - DAY - TIME - 28.853522011078894 - 2012-12-08 00:00:00\n",
      "28.853522011078894 2012-12-08 00:00:00\n",
      "2020-06-20 15:48:25,214 - VegET_CLASS - INFO - DAY - TIME - 24.94494657823816 - 2012-12-09 00:00:00\n",
      "24.94494657823816 2012-12-09 00:00:00\n",
      "2020-06-20 15:48:48,462 - VegET_CLASS - INFO - DAY - TIME - 23.247636005748063 - 2012-12-10 00:00:00\n",
      "23.247636005748063 2012-12-10 00:00:00\n",
      "2020-06-20 15:50:56,884 - VegET_CLASS - INFO - DAY - TIME - 128.42130952281877 - 2012-12-11 00:00:00\n",
      "128.42130952281877 2012-12-11 00:00:00\n",
      "2020-06-20 15:51:22,907 - VegET_CLASS - INFO - DAY - TIME - 26.023649082984775 - 2012-12-12 00:00:00\n",
      "26.023649082984775 2012-12-12 00:00:00\n",
      "2020-06-20 15:51:52,635 - VegET_CLASS - INFO - DAY - TIME - 29.7276747841388 - 2012-12-13 00:00:00\n",
      "29.7276747841388 2012-12-13 00:00:00\n",
      "2020-06-20 15:52:16,698 - VegET_CLASS - INFO - DAY - TIME - 24.062160547822714 - 2012-12-14 00:00:00\n",
      "24.062160547822714 2012-12-14 00:00:00\n",
      "2020-06-20 15:52:49,262 - VegET_CLASS - INFO - DAY - TIME - 32.56388711696491 - 2012-12-15 00:00:00\n",
      "32.56388711696491 2012-12-15 00:00:00\n",
      "2020-06-20 15:53:17,141 - VegET_CLASS - INFO - DAY - TIME - 27.879244490992278 - 2012-12-16 00:00:00\n",
      "27.879244490992278 2012-12-16 00:00:00\n",
      "2020-06-20 15:53:45,187 - VegET_CLASS - INFO - DAY - TIME - 28.045485159382224 - 2012-12-17 00:00:00\n",
      "28.045485159382224 2012-12-17 00:00:00\n",
      "2020-06-20 15:54:13,249 - VegET_CLASS - INFO - DAY - TIME - 28.061447184998542 - 2012-12-18 00:00:00\n",
      "28.061447184998542 2012-12-18 00:00:00\n",
      "2020-06-20 15:54:38,715 - VegET_CLASS - INFO - DAY - TIME - 25.466194191016257 - 2012-12-19 00:00:00\n",
      "25.466194191016257 2012-12-19 00:00:00\n",
      "2020-06-20 15:55:05,689 - VegET_CLASS - INFO - DAY - TIME - 26.973672450054437 - 2012-12-20 00:00:00\n",
      "26.973672450054437 2012-12-20 00:00:00\n",
      "2020-06-20 15:55:31,012 - VegET_CLASS - INFO - DAY - TIME - 25.32234445400536 - 2012-12-21 00:00:00\n",
      "25.32234445400536 2012-12-21 00:00:00\n",
      "2020-06-20 15:55:56,236 - VegET_CLASS - INFO - DAY - TIME - 25.223322426900268 - 2012-12-22 00:00:00\n",
      "25.223322426900268 2012-12-22 00:00:00\n",
      "2020-06-20 15:56:25,281 - VegET_CLASS - INFO - DAY - TIME - 29.044721381738782 - 2012-12-23 00:00:00\n",
      "29.044721381738782 2012-12-23 00:00:00\n",
      "2020-06-20 15:56:48,301 - VegET_CLASS - INFO - DAY - TIME - 23.019805199932307 - 2012-12-24 00:00:00\n",
      "23.019805199932307 2012-12-24 00:00:00\n",
      "2020-06-20 15:57:30,473 - VegET_CLASS - INFO - DAY - TIME - 42.17229453288019 - 2012-12-25 00:00:00\n",
      "42.17229453288019 2012-12-25 00:00:00\n"
     ]
    }
   ],
   "source": [
    "import pandas as pd\n",
    "df = pd.DataFrame(columns=[\"day\", \"time\"])\n",
    "for i in range(0,len(lines)):\n",
    "    if ('VegET_CLASS ' in lines[i]) and ('DAY' in lines[i]):\n",
    "        print(lines[i])\n",
    "        _items = lines[i].split(' - ')\n",
    "        print(_items[5], _items[6])\n",
    "        df = df.append({\"day\": _items[6],\"time\": _items[5]}, ignore_index=True)"
   ]
  },
  {
   "cell_type": "code",
   "execution_count": 12,
   "metadata": {},
   "outputs": [
    {
     "data": {
      "text/html": [
       "<div>\n",
       "<style scoped>\n",
       "    .dataframe tbody tr th:only-of-type {\n",
       "        vertical-align: middle;\n",
       "    }\n",
       "\n",
       "    .dataframe tbody tr th {\n",
       "        vertical-align: top;\n",
       "    }\n",
       "\n",
       "    .dataframe thead th {\n",
       "        text-align: right;\n",
       "    }\n",
       "</style>\n",
       "<table border=\"1\" class=\"dataframe\">\n",
       "  <thead>\n",
       "    <tr style=\"text-align: right;\">\n",
       "      <th></th>\n",
       "      <th>day</th>\n",
       "      <th>time</th>\n",
       "    </tr>\n",
       "  </thead>\n",
       "  <tbody>\n",
       "    <tr>\n",
       "      <th>0</th>\n",
       "      <td>2012-11-30 00:00:00</td>\n",
       "      <td>23.82932587713003</td>\n",
       "    </tr>\n",
       "    <tr>\n",
       "      <th>1</th>\n",
       "      <td>2012-12-01 00:00:00</td>\n",
       "      <td>125.49668184807524</td>\n",
       "    </tr>\n",
       "    <tr>\n",
       "      <th>2</th>\n",
       "      <td>2012-12-02 00:00:00</td>\n",
       "      <td>39.975049721077085</td>\n",
       "    </tr>\n",
       "    <tr>\n",
       "      <th>3</th>\n",
       "      <td>2012-12-03 00:00:00</td>\n",
       "      <td>26.918258279096335</td>\n",
       "    </tr>\n",
       "    <tr>\n",
       "      <th>4</th>\n",
       "      <td>2012-12-04 00:00:00</td>\n",
       "      <td>27.541604122146964</td>\n",
       "    </tr>\n",
       "    <tr>\n",
       "      <th>5</th>\n",
       "      <td>2012-12-05 00:00:00</td>\n",
       "      <td>27.33454190334305</td>\n",
       "    </tr>\n",
       "    <tr>\n",
       "      <th>6</th>\n",
       "      <td>2012-12-06 00:00:00</td>\n",
       "      <td>23.78530544321984</td>\n",
       "    </tr>\n",
       "    <tr>\n",
       "      <th>7</th>\n",
       "      <td>2012-12-07 00:00:00</td>\n",
       "      <td>31.69551506312564</td>\n",
       "    </tr>\n",
       "    <tr>\n",
       "      <th>8</th>\n",
       "      <td>2012-12-08 00:00:00</td>\n",
       "      <td>28.853522011078894</td>\n",
       "    </tr>\n",
       "    <tr>\n",
       "      <th>9</th>\n",
       "      <td>2012-12-09 00:00:00</td>\n",
       "      <td>24.94494657823816</td>\n",
       "    </tr>\n",
       "    <tr>\n",
       "      <th>10</th>\n",
       "      <td>2012-12-10 00:00:00</td>\n",
       "      <td>23.247636005748063</td>\n",
       "    </tr>\n",
       "    <tr>\n",
       "      <th>11</th>\n",
       "      <td>2012-12-11 00:00:00</td>\n",
       "      <td>128.42130952281877</td>\n",
       "    </tr>\n",
       "    <tr>\n",
       "      <th>12</th>\n",
       "      <td>2012-12-12 00:00:00</td>\n",
       "      <td>26.023649082984775</td>\n",
       "    </tr>\n",
       "    <tr>\n",
       "      <th>13</th>\n",
       "      <td>2012-12-13 00:00:00</td>\n",
       "      <td>29.7276747841388</td>\n",
       "    </tr>\n",
       "    <tr>\n",
       "      <th>14</th>\n",
       "      <td>2012-12-14 00:00:00</td>\n",
       "      <td>24.062160547822714</td>\n",
       "    </tr>\n",
       "    <tr>\n",
       "      <th>15</th>\n",
       "      <td>2012-12-15 00:00:00</td>\n",
       "      <td>32.56388711696491</td>\n",
       "    </tr>\n",
       "    <tr>\n",
       "      <th>16</th>\n",
       "      <td>2012-12-16 00:00:00</td>\n",
       "      <td>27.879244490992278</td>\n",
       "    </tr>\n",
       "    <tr>\n",
       "      <th>17</th>\n",
       "      <td>2012-12-17 00:00:00</td>\n",
       "      <td>28.045485159382224</td>\n",
       "    </tr>\n",
       "    <tr>\n",
       "      <th>18</th>\n",
       "      <td>2012-12-18 00:00:00</td>\n",
       "      <td>28.061447184998542</td>\n",
       "    </tr>\n",
       "    <tr>\n",
       "      <th>19</th>\n",
       "      <td>2012-12-19 00:00:00</td>\n",
       "      <td>25.466194191016257</td>\n",
       "    </tr>\n",
       "    <tr>\n",
       "      <th>20</th>\n",
       "      <td>2012-12-20 00:00:00</td>\n",
       "      <td>26.973672450054437</td>\n",
       "    </tr>\n",
       "    <tr>\n",
       "      <th>21</th>\n",
       "      <td>2012-12-21 00:00:00</td>\n",
       "      <td>25.32234445400536</td>\n",
       "    </tr>\n",
       "    <tr>\n",
       "      <th>22</th>\n",
       "      <td>2012-12-22 00:00:00</td>\n",
       "      <td>25.223322426900268</td>\n",
       "    </tr>\n",
       "    <tr>\n",
       "      <th>23</th>\n",
       "      <td>2012-12-23 00:00:00</td>\n",
       "      <td>29.044721381738782</td>\n",
       "    </tr>\n",
       "    <tr>\n",
       "      <th>24</th>\n",
       "      <td>2012-12-24 00:00:00</td>\n",
       "      <td>23.019805199932307</td>\n",
       "    </tr>\n",
       "    <tr>\n",
       "      <th>25</th>\n",
       "      <td>2012-12-25 00:00:00</td>\n",
       "      <td>42.17229453288019</td>\n",
       "    </tr>\n",
       "  </tbody>\n",
       "</table>\n",
       "</div>"
      ],
      "text/plain": [
       "                    day                time\n",
       "0   2012-11-30 00:00:00   23.82932587713003\n",
       "1   2012-12-01 00:00:00  125.49668184807524\n",
       "2   2012-12-02 00:00:00  39.975049721077085\n",
       "3   2012-12-03 00:00:00  26.918258279096335\n",
       "4   2012-12-04 00:00:00  27.541604122146964\n",
       "5   2012-12-05 00:00:00   27.33454190334305\n",
       "6   2012-12-06 00:00:00   23.78530544321984\n",
       "7   2012-12-07 00:00:00   31.69551506312564\n",
       "8   2012-12-08 00:00:00  28.853522011078894\n",
       "9   2012-12-09 00:00:00   24.94494657823816\n",
       "10  2012-12-10 00:00:00  23.247636005748063\n",
       "11  2012-12-11 00:00:00  128.42130952281877\n",
       "12  2012-12-12 00:00:00  26.023649082984775\n",
       "13  2012-12-13 00:00:00    29.7276747841388\n",
       "14  2012-12-14 00:00:00  24.062160547822714\n",
       "15  2012-12-15 00:00:00   32.56388711696491\n",
       "16  2012-12-16 00:00:00  27.879244490992278\n",
       "17  2012-12-17 00:00:00  28.045485159382224\n",
       "18  2012-12-18 00:00:00  28.061447184998542\n",
       "19  2012-12-19 00:00:00  25.466194191016257\n",
       "20  2012-12-20 00:00:00  26.973672450054437\n",
       "21  2012-12-21 00:00:00   25.32234445400536\n",
       "22  2012-12-22 00:00:00  25.223322426900268\n",
       "23  2012-12-23 00:00:00  29.044721381738782\n",
       "24  2012-12-24 00:00:00  23.019805199932307\n",
       "25  2012-12-25 00:00:00   42.17229453288019"
      ]
     },
     "execution_count": 12,
     "metadata": {},
     "output_type": "execute_result"
    }
   ],
   "source": [
    "df"
   ]
  },
  {
   "cell_type": "code",
   "execution_count": 20,
   "metadata": {},
   "outputs": [
    {
     "data": {
      "text/plain": [
       "day     object\n",
       "time    object\n",
       "dtype: object"
      ]
     },
     "execution_count": 20,
     "metadata": {},
     "output_type": "execute_result"
    }
   ],
   "source": [
    "df.dtypes"
   ]
  },
  {
   "cell_type": "code",
   "execution_count": 24,
   "metadata": {},
   "outputs": [
    {
     "data": {
      "text/plain": [
       "day      object\n",
       "time    float64\n",
       "dtype: object"
      ]
     },
     "execution_count": 24,
     "metadata": {},
     "output_type": "execute_result"
    }
   ],
   "source": [
    "df.time = df.time.astype(float)\n",
    "df.dtypes"
   ]
  },
  {
   "cell_type": "code",
   "execution_count": 25,
   "metadata": {},
   "outputs": [
    {
     "data": {
      "text/html": [
       "<div>\n",
       "<style scoped>\n",
       "    .dataframe tbody tr th:only-of-type {\n",
       "        vertical-align: middle;\n",
       "    }\n",
       "\n",
       "    .dataframe tbody tr th {\n",
       "        vertical-align: top;\n",
       "    }\n",
       "\n",
       "    .dataframe thead th {\n",
       "        text-align: right;\n",
       "    }\n",
       "</style>\n",
       "<table border=\"1\" class=\"dataframe\">\n",
       "  <thead>\n",
       "    <tr style=\"text-align: right;\">\n",
       "      <th></th>\n",
       "      <th>time</th>\n",
       "    </tr>\n",
       "  </thead>\n",
       "  <tbody>\n",
       "    <tr>\n",
       "      <th>count</th>\n",
       "      <td>26.000000</td>\n",
       "    </tr>\n",
       "    <tr>\n",
       "      <th>mean</th>\n",
       "      <td>35.601138</td>\n",
       "    </tr>\n",
       "    <tr>\n",
       "      <th>std</th>\n",
       "      <td>27.281398</td>\n",
       "    </tr>\n",
       "    <tr>\n",
       "      <th>min</th>\n",
       "      <td>23.019805</td>\n",
       "    </tr>\n",
       "    <tr>\n",
       "      <th>25%</th>\n",
       "      <td>25.248078</td>\n",
       "    </tr>\n",
       "    <tr>\n",
       "      <th>50%</th>\n",
       "      <td>27.438073</td>\n",
       "    </tr>\n",
       "    <tr>\n",
       "      <th>75%</th>\n",
       "      <td>29.556936</td>\n",
       "    </tr>\n",
       "    <tr>\n",
       "      <th>max</th>\n",
       "      <td>128.421310</td>\n",
       "    </tr>\n",
       "  </tbody>\n",
       "</table>\n",
       "</div>"
      ],
      "text/plain": [
       "             time\n",
       "count   26.000000\n",
       "mean    35.601138\n",
       "std     27.281398\n",
       "min     23.019805\n",
       "25%     25.248078\n",
       "50%     27.438073\n",
       "75%     29.556936\n",
       "max    128.421310"
      ]
     },
     "execution_count": 25,
     "metadata": {},
     "output_type": "execute_result"
    }
   ],
   "source": [
    "df.describe()"
   ]
  },
  {
   "cell_type": "code",
   "execution_count": 26,
   "metadata": {},
   "outputs": [
    {
     "data": {
      "text/html": [
       "<div>\n",
       "<style scoped>\n",
       "    .dataframe tbody tr th:only-of-type {\n",
       "        vertical-align: middle;\n",
       "    }\n",
       "\n",
       "    .dataframe tbody tr th {\n",
       "        vertical-align: top;\n",
       "    }\n",
       "\n",
       "    .dataframe thead th {\n",
       "        text-align: right;\n",
       "    }\n",
       "</style>\n",
       "<table border=\"1\" class=\"dataframe\">\n",
       "  <thead>\n",
       "    <tr style=\"text-align: right;\">\n",
       "      <th></th>\n",
       "      <th>time</th>\n",
       "    </tr>\n",
       "  </thead>\n",
       "  <tbody>\n",
       "    <tr>\n",
       "      <th>min</th>\n",
       "      <td>23.019805</td>\n",
       "    </tr>\n",
       "    <tr>\n",
       "      <th>max</th>\n",
       "      <td>128.421310</td>\n",
       "    </tr>\n",
       "    <tr>\n",
       "      <th>median</th>\n",
       "      <td>27.438073</td>\n",
       "    </tr>\n",
       "    <tr>\n",
       "      <th>skew</th>\n",
       "      <td>3.218107</td>\n",
       "    </tr>\n",
       "  </tbody>\n",
       "</table>\n",
       "</div>"
      ],
      "text/plain": [
       "              time\n",
       "min      23.019805\n",
       "max     128.421310\n",
       "median   27.438073\n",
       "skew      3.218107"
      ]
     },
     "execution_count": 26,
     "metadata": {},
     "output_type": "execute_result"
    }
   ],
   "source": [
    "df.agg({'time': ['min', 'max', 'median', 'skew']})"
   ]
  },
  {
   "cell_type": "code",
   "execution_count": 27,
   "metadata": {},
   "outputs": [
    {
     "data": {
      "text/plain": [
       "23.019805199932307"
      ]
     },
     "execution_count": 27,
     "metadata": {},
     "output_type": "execute_result"
    }
   ],
   "source": [
    "df['time'].min()"
   ]
  },
  {
   "cell_type": "code",
   "execution_count": 28,
   "metadata": {},
   "outputs": [
    {
     "data": {
      "text/plain": [
       "35.601138437650384"
      ]
     },
     "execution_count": 28,
     "metadata": {},
     "output_type": "execute_result"
    }
   ],
   "source": [
    "df['time'].mean()"
   ]
  },
  {
   "cell_type": "code",
   "execution_count": 30,
   "metadata": {},
   "outputs": [
    {
     "data": {
      "text/plain": [
       "13176"
      ]
     },
     "execution_count": 30,
     "metadata": {},
     "output_type": "execute_result"
    }
   ],
   "source": [
    "one_day = 36 #seconds\n",
    "\n",
    "one_year = 366 * one_day # seconds\n",
    "\n",
    "one_year"
   ]
  },
  {
   "cell_type": "code",
   "execution_count": 31,
   "metadata": {},
   "outputs": [],
   "source": [
    "time_for_one_year_in_hours = one_year / 60 / 60"
   ]
  },
  {
   "cell_type": "code",
   "execution_count": 32,
   "metadata": {},
   "outputs": [
    {
     "data": {
      "text/plain": [
       "3.6599999999999997"
      ]
     },
     "execution_count": 32,
     "metadata": {},
     "output_type": "execute_result"
    }
   ],
   "source": [
    "time_for_one_year_in_hours"
   ]
  },
  {
   "cell_type": "code",
   "execution_count": 33,
   "metadata": {},
   "outputs": [
    {
     "data": {
      "text/plain": [
       "<matplotlib.axes._subplots.AxesSubplot at 0x7f9690097198>"
      ]
     },
     "execution_count": 33,
     "metadata": {},
     "output_type": "execute_result"
    },
    {
     "data": {
      "image/png": "[encoded data removed]",
      "text/plain": [
       "<Figure size 432x288 with 1 Axes>"
      ]
     },
     "metadata": {
      "needs_background": "light"
     },
     "output_type": "display_data"
    }
   ],
   "source": [
    "df.plot()"
   ]
  },
  {
   "cell_type": "code",
   "execution_count": 35,
   "metadata": {},
   "outputs": [],
   "source": [
    "data_shape = (3116, 1940)"
   ]
  },
  {
   "cell_type": "code",
   "execution_count": 36,
   "metadata": {},
   "outputs": [],
   "source": [
    "num_pixels = data_shape[0] * data_shape[1]"
   ]
  },
  {
   "cell_type": "code",
   "execution_count": 37,
   "metadata": {},
   "outputs": [
    {
     "data": {
      "text/plain": [
       "6045040"
      ]
     },
     "execution_count": 37,
     "metadata": {},
     "output_type": "execute_result"
    }
   ],
   "source": [
    "num_pixels"
   ]
  },
  {
   "cell_type": "code",
   "execution_count": 38,
   "metadata": {},
   "outputs": [],
   "source": [
    "seconds_per_pixel = df['time'].mean() / num_pixels"
   ]
  },
  {
   "cell_type": "code",
   "execution_count": 39,
   "metadata": {},
   "outputs": [
    {
     "data": {
      "text/plain": [
       "5.889313956177359e-06"
      ]
     },
     "execution_count": 39,
     "metadata": {},
     "output_type": "execute_result"
    }
   ],
   "source": [
    "seconds_per_pixel"
   ]
  },
  {
   "cell_type": "code",
   "execution_count": null,
   "metadata": {},
   "outputs": [],
   "source": []
  }
 ],
 "metadata": {
  "kernelspec": {
   "display_name": "Python 3",
   "language": "python",
   "name": "python3"
  },
  "language_info": {
   "codemirror_mode": {
    "name": "ipython",
    "version": 3
   },
   "file_extension": ".py",
   "mimetype": "text/x-python",
   "name": "python",
   "nbconvert_exporter": "python",
   "pygments_lexer": "ipython3",
   "version": "3.7.3"
  }
 },
 "nbformat": 4,
 "nbformat_minor": 4
}
