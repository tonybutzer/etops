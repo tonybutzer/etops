{
 "cells": [
  {
   "cell_type": "code",
   "execution_count": 23,
   "metadata": {},
   "outputs": [
    {
     "name": "stdout",
     "output_type": "stream",
     "text": [
      "                           PRE tile40N-80E_chip32N-72E/\r\n",
      "                           PRE tile40N-80E_chip32N-74E/\r\n",
      "                           PRE tile40N-80E_chip32N-76E/\r\n",
      "                           PRE tile40N-80E_chip32N-78E/\r\n",
      "                           PRE tile40N-80E_chip32N-80E/\r\n",
      "                           PRE tile40N-80E_chip34N-72E/\r\n",
      "                           PRE tile40N-80E_chip34N-74E/\r\n",
      "                           PRE tile40N-80E_chip34N-76E/\r\n",
      "                           PRE tile40N-80E_chip34N-78E/\r\n",
      "                           PRE tile40N-80E_chip34N-80E/\r\n",
      "                           PRE tile40N-80E_chip36N-72E/\r\n",
      "                           PRE tile40N-80E_chip36N-74E/\r\n",
      "                           PRE tile40N-80E_chip36N-76E/\r\n",
      "                           PRE tile40N-80E_chip36N-78E/\r\n",
      "                           PRE tile40N-80E_chip36N-80E/\r\n",
      "                           PRE tile40N-80E_chip38N-72E/\r\n",
      "                           PRE tile40N-80E_chip38N-74E/\r\n",
      "                           PRE tile40N-80E_chip38N-76E/\r\n",
      "                           PRE tile40N-80E_chip38N-78E/\r\n",
      "                           PRE tile40N-80E_chip38N-80E/\r\n",
      "                           PRE tile40N-80E_chip40N-72E/\r\n",
      "                           PRE tile40N-80E_chip40N-74E/\r\n",
      "                           PRE tile40N-80E_chip40N-76E/\r\n",
      "                           PRE tile40N-80E_chip40N-78E/\r\n",
      "                           PRE tile40N-80E_chip40N-80E/\r\n",
      "                           PRE tile40N-90E_chip32N-82E/\r\n",
      "                           PRE tile40N-90E_chip32N-84E/\r\n",
      "                           PRE tile40N-90E_chip32N-86E/\r\n",
      "                           PRE tile40N-90E_chip32N-88E/\r\n",
      "                           PRE tile40N-90E_chip32N-90E/\r\n",
      "                           PRE tile40N-90E_chip34N-82E/\r\n",
      "                           PRE tile40N-90E_chip34N-84E/\r\n",
      "                           PRE tile40N-90E_chip34N-86E/\r\n",
      "                           PRE tile40N-90E_chip34N-88E/\r\n",
      "                           PRE tile40N-90E_chip34N-90E/\r\n",
      "                           PRE tile40N-90E_chip36N-82E/\r\n",
      "                           PRE tile40N-90E_chip36N-84E/\r\n",
      "                           PRE tile40N-90E_chip36N-86E/\r\n",
      "                           PRE tile40N-90E_chip36N-88E/\r\n",
      "                           PRE tile40N-90E_chip36N-90E/\r\n",
      "                           PRE tile40N-90E_chip38N-82E/\r\n",
      "                           PRE tile40N-90E_chip38N-84E/\r\n",
      "                           PRE tile40N-90E_chip38N-86E/\r\n",
      "                           PRE tile40N-90E_chip38N-88E/\r\n",
      "                           PRE tile40N-90E_chip38N-90E/\r\n",
      "                           PRE tile40N-90E_chip40N-82E/\r\n",
      "                           PRE tile40N-90E_chip40N-84E/\r\n",
      "                           PRE tile40N-90E_chip40N-86E/\r\n",
      "                           PRE tile40N-90E_chip40N-88E/\r\n",
      "                           PRE tile40N-90E_chip40N-90E/\r\n"
     ]
    }
   ],
   "source": [
    "! aws s3 ls dev-et-data/tiles/tile40N-"
   ]
  },
  {
   "cell_type": "code",
   "execution_count": 24,
   "metadata": {},
   "outputs": [
    {
     "name": "stdout",
     "output_type": "stream",
     "text": [
      "81 fast.txt\r\n"
     ]
    }
   ],
   "source": [
    "! aws s3 ls dev-et-data/tiles/tile40N-90E_chip40N-86E/ >fast.txt\n",
    "\n",
    "! wc -l fast.txt"
   ]
  },
  {
   "cell_type": "code",
   "execution_count": 25,
   "metadata": {},
   "outputs": [
    {
     "name": "stdout",
     "output_type": "stream",
     "text": [
      "2020-06-27 02:08:20    7411614 swf_2013279.tif\r\n",
      "2020-06-27 02:08:28    7411614 swf_2013280.tif\r\n",
      "2020-06-27 02:08:41    7411614 swf_2013281.tif\r\n",
      "2020-06-27 02:07:35    7411614 swi_2013275.tif\r\n",
      "2020-06-27 02:07:47    7411614 swi_2013276.tif\r\n",
      "2020-06-27 02:07:55    7411614 swi_2013277.tif\r\n",
      "2020-06-27 02:08:05    7411614 swi_2013278.tif\r\n",
      "2020-06-27 02:08:16    7411614 swi_2013279.tif\r\n",
      "2020-06-27 02:08:25    7411614 swi_2013280.tif\r\n",
      "2020-06-27 02:08:37    7411614 swi_2013281.tif\r\n"
     ]
    }
   ],
   "source": [
    "! tail fast.txt"
   ]
  },
  {
   "cell_type": "code",
   "execution_count": 18,
   "metadata": {},
   "outputs": [
    {
     "name": "stdout",
     "output_type": "stream",
     "text": [
      "2020-06-26 20:23:49    7411614 etasw5_2013365.tif\r\n",
      "2020-06-26 22:18:50    7411614 etasw5_2014365.tif\r\n",
      "2020-06-27 00:13:07    7411614 etasw5_2015365.tif\r\n",
      "2020-06-27 01:44:06    7411614 etasw5_2016365.tif\r\n"
     ]
    }
   ],
   "source": [
    "! grep 365 fast.txt |grep etasw5"
   ]
  },
  {
   "cell_type": "code",
   "execution_count": 8,
   "metadata": {},
   "outputs": [
    {
     "name": "stdout",
     "output_type": "stream",
     "text": [
      "affine (2.2.2)\n",
      "alembic (1.0.11)\n",
      "attrs (19.1.0)\n",
      "awscli (1.16.222)\n",
      "backcall (0.1.0)\n",
      "bleach (3.1.0)\n",
      "boto3 (1.9.212)\n",
      "botocore (1.12.212)\n",
      "certifi (2019.6.16)\n",
      "chardet (3.0.4)\n",
      "Click (7.0)\n",
      "click-plugins (1.1.1)\n",
      "cligj (0.5.0)\n",
      "colorama (0.3.9)\n",
      "cycler (0.9.0)\n",
      "Cython (0.29.13)\n",
      "dateutils (0.6.6)\n",
      "decorator (4.4.0)\n",
      "defusedxml (0.6.0)\n",
      "docutils (0.15.2)\n",
      "entrypoints (0.3)\n",
      "Fiona (1.8.6)\n",
      "GDAL (2.4.0)\n",
      "idna (2.8)\n",
      "ipykernel (5.1.2)\n",
      "ipython (7.7.0)\n",
      "ipython-genutils (0.2.0)\n",
      "jedi (0.15.1)\n",
      "Jinja2 (2.10.1)\n",
      "jmespath (0.9.4)\n",
      "jsonschema (3.0.2)\n",
      "jupyter-client (5.3.1)\n",
      "jupyter-core (4.5.0)\n",
      "jupyterhub (0.8.1)\n",
      "Mako (1.1.0)\n",
      "MarkupSafe (1.1.1)\n",
      "matplotlib (1.5.1)\n",
      "mistune (0.8.4)\n",
      "munch (2.3.2)\n",
      "nbconvert (5.6.0)\n",
      "nbformat (4.4.0)\n",
      "notebook (6.0.0)\n",
      "numpy (1.17.0)\n",
      "pamela (1.0.0)\n",
      "pandas (0.25.0)\n",
      "pandocfilters (1.4.2)\n",
      "parso (0.5.1)\n",
      "pexpect (4.7.0)\n",
      "pickleshare (0.7.5)\n",
      "pip (8.1.1)\n",
      "prometheus-client (0.7.1)\n",
      "prompt-toolkit (2.0.9)\n",
      "ptyprocess (0.6.0)\n",
      "pyasn1 (0.4.6)\n",
      "pycurl (7.43.0)\n",
      "Pygments (2.4.2)\n",
      "pygobject (3.20.0)\n",
      "pyparsing (2.4.2)\n",
      "pyrsistent (0.15.4)\n",
      "python-apt (1.1.0b1+ubuntu0.16.4.5)\n",
      "python-dateutil (2.8.0)\n",
      "python-editor (1.0.4)\n",
      "python-oauth2 (1.1.1)\n",
      "pytz (2019.2)\n",
      "PyYAML (5.1.2)\n",
      "pyzmq (18.1.0)\n",
      "rasterio (1.0.25)\n",
      "requests (2.22.0)\n",
      "rsa (3.4.2)\n",
      "s3transfer (0.2.1)\n",
      "Send2Trash (1.5.0)\n",
      "setuptools (41.1.0)\n",
      "Shapely (1.6.4.post2)\n",
      "six (1.12.0)\n",
      "snuggs (1.4.6)\n",
      "SQLAlchemy (1.3.7)\n",
      "terminado (0.8.2)\n",
      "testpath (0.4.2)\n",
      "tornado (6.0.3)\n",
      "traitlets (4.3.2)\n",
      "unattended-upgrades (0.1)\n",
      "urllib3 (1.25.3)\n",
      "wcwidth (0.1.7)\n",
      "webencodings (0.5.1)\n",
      "wheel (0.33.6)\n",
      "\u001b[33mThe directory '/home/.cache/pip/http' or its parent directory is not owned by the current user and the cache has been disabled. Please check the permissions and owner of that directory. If executing pip with sudo, you may want sudo's -H flag.\u001b[0m\n",
      "\u001b[33mYou are using pip version 8.1.1, however version 20.1.1 is available.\n",
      "You should consider upgrading via the 'pip install --upgrade pip' command.\u001b[0m\n"
     ]
    }
   ],
   "source": [
    "! pip3 list"
   ]
  },
  {
   "cell_type": "code",
   "execution_count": 9,
   "metadata": {},
   "outputs": [],
   "source": [
    "row_3_040N = {\n",
    "       'ul_lat' : 40.0,\n",
    "       'lr_lat' : 30.0,\n",
    "       'start_lon' : -130.0,\n",
    "       'end_lon' : -80.0,\n",
    "       'increment' : 10\n",
    "   }"
   ]
  },
  {
   "cell_type": "code",
   "execution_count": 11,
   "metadata": {},
   "outputs": [],
   "source": [
    "def make_poly(row_dict, ul_lon):\n",
    "    coord_list = []\n",
    "    r = row_dict\n",
    "    ul_lon_lat = [ul_lon, r['ul_lat']]\n",
    "    ur_lon_lat = [ul_lon + r['increment'], r['ul_lat']]\n",
    "    lr_lon_lat = [ul_lon + r['increment'], r['lr_lat']]\n",
    "    ll_lon_lat = [ul_lon, r['lr_lat']]\n",
    "    print (ul_lon_lat)\n",
    "    coord_list.append(ul_lon_lat)\n",
    "    print (ur_lon_lat)\n",
    "    coord_list.append(ur_lon_lat)\n",
    "    print (lr_lon_lat)\n",
    "    coord_list.append(lr_lon_lat)\n",
    "    print (ll_lon_lat)\n",
    "    coord_list.append(ll_lon_lat)\n",
    "    print (ul_lon_lat)\n",
    "    coord_list.append(ul_lon_lat)\n",
    "    return(coord_list)"
   ]
  },
  {
   "cell_type": "code",
   "execution_count": 12,
   "metadata": {},
   "outputs": [
    {
     "name": "stdout",
     "output_type": "stream",
     "text": [
      "-130\n",
      "[-130, 40.0]\n",
      "[-120, 40.0]\n",
      "[-120, 30.0]\n",
      "[-130, 30.0]\n",
      "[-130, 40.0]\n",
      "-120\n",
      "[-120, 40.0]\n",
      "[-110, 40.0]\n",
      "[-110, 30.0]\n",
      "[-120, 30.0]\n",
      "[-120, 40.0]\n",
      "-110\n",
      "[-110, 40.0]\n",
      "[-100, 40.0]\n",
      "[-100, 30.0]\n",
      "[-110, 30.0]\n",
      "[-110, 40.0]\n",
      "-100\n",
      "[-100, 40.0]\n",
      "[-90, 40.0]\n",
      "[-90, 30.0]\n",
      "[-100, 30.0]\n",
      "[-100, 40.0]\n",
      "-90\n",
      "[-90, 40.0]\n",
      "[-80, 40.0]\n",
      "[-80, 30.0]\n",
      "[-90, 30.0]\n",
      "[-90, 40.0]\n",
      "-80\n",
      "[-80, 40.0]\n",
      "[-70, 40.0]\n",
      "[-70, 30.0]\n",
      "[-80, 30.0]\n",
      "[-80, 40.0]\n"
     ]
    }
   ],
   "source": [
    "r0 = row_3_040N\n",
    "polycs = []\n",
    "for lonval in range(int(r0['start_lon']), int(r0['end_lon']+r0['increment']), r0['increment']):\n",
    "    print (lonval)\n",
    "    coords = make_poly(r0, lonval)\n",
    "    polycs.append(coords)"
   ]
  },
  {
   "cell_type": "code",
   "execution_count": 13,
   "metadata": {},
   "outputs": [],
   "source": [
    "import json\n",
    "geos = []\n",
    "for polyc in polycs:\n",
    "    poly = {\n",
    "        'type': 'Feature',\n",
    "        'properties': {},\n",
    "        'geometry': {\n",
    "            'type': 'Polygon',\n",
    "            'coordinates': [polyc]\n",
    "        }\n",
    "    }\n",
    "    geos.append(poly)\n",
    "\n",
    "geometries = {\n",
    "    'type': 'FeatureCollection',\n",
    "    'features': geos,\n",
    "}\n",
    "\n",
    "geo_str = json.dumps(geometries) "
   ]
  },
  {
   "cell_type": "code",
   "execution_count": 14,
   "metadata": {},
   "outputs": [
    {
     "data": {
      "text/plain": [
       "'{\"type\": \"FeatureCollection\", \"features\": [{\"properties\": {}, \"geometry\": {\"type\": \"Polygon\", \"coordinates\": [[[-130, 40.0], [-120, 40.0], [-120, 30.0], [-130, 30.0], [-130, 40.0]]]}, \"type\": \"Feature\"}, {\"properties\": {}, \"geometry\": {\"type\": \"Polygon\", \"coordinates\": [[[-120, 40.0], [-110, 40.0], [-110, 30.0], [-120, 30.0], [-120, 40.0]]]}, \"type\": \"Feature\"}, {\"properties\": {}, \"geometry\": {\"type\": \"Polygon\", \"coordinates\": [[[-110, 40.0], [-100, 40.0], [-100, 30.0], [-110, 30.0], [-110, 40.0]]]}, \"type\": \"Feature\"}, {\"properties\": {}, \"geometry\": {\"type\": \"Polygon\", \"coordinates\": [[[-100, 40.0], [-90, 40.0], [-90, 30.0], [-100, 30.0], [-100, 40.0]]]}, \"type\": \"Feature\"}, {\"properties\": {}, \"geometry\": {\"type\": \"Polygon\", \"coordinates\": [[[-90, 40.0], [-80, 40.0], [-80, 30.0], [-90, 30.0], [-90, 40.0]]]}, \"type\": \"Feature\"}, {\"properties\": {}, \"geometry\": {\"type\": \"Polygon\", \"coordinates\": [[[-80, 40.0], [-70, 40.0], [-70, 30.0], [-80, 30.0], [-80, 40.0]]]}, \"type\": \"Feature\"}]}'"
      ]
     },
     "execution_count": 14,
     "metadata": {},
     "output_type": "execute_result"
    }
   ],
   "source": [
    "geo_str"
   ]
  },
  {
   "cell_type": "code",
   "execution_count": 15,
   "metadata": {},
   "outputs": [],
   "source": [
    "import json\n",
    "with open('row3.json', 'w', encoding='utf-8') as f:\n",
    "    json.dump(geometries, f, ensure_ascii=False, indent=4)"
   ]
  },
  {
   "cell_type": "code",
   "execution_count": 16,
   "metadata": {},
   "outputs": [
    {
     "name": "stdout",
     "output_type": "stream",
     "text": [
      "00-steffi-open-ET-collaboration-aoi-viz.ipynb  Makefile  fast.txt  row3.json\r\n"
     ]
    }
   ],
   "source": [
    "! ls"
   ]
  },
  {
   "cell_type": "code",
   "execution_count": null,
   "metadata": {},
   "outputs": [],
   "source": []
  }
 ],
 "metadata": {
  "kernelspec": {
   "display_name": "Python 3",
   "language": "python",
   "name": "python3"
  },
  "language_info": {
   "codemirror_mode": {
    "name": "ipython",
    "version": 3
   },
   "file_extension": ".py",
   "mimetype": "text/x-python",
   "name": "python",
   "nbconvert_exporter": "python",
   "pygments_lexer": "ipython3",
   "version": "3.5.2"
  }
 },
 "nbformat": 4,
 "nbformat_minor": 4
}
